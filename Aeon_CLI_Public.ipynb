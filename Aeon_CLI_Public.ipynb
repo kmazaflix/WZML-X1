{
  "cells": [
    {
      "cell_type": "markdown",
      "metadata": {
        "id": "view-in-github",
        "colab_type": "text"
      },
      "source": [
        "<a href=\"https://colab.research.google.com/github/kmazaflix/WZML-X1/blob/master/Aeon_CLI_Public.ipynb\" target=\"_parent\"><img src=\"https://colab.research.google.com/assets/colab-badge.svg\" alt=\"Open In Colab\"/></a>"
      ]
    },
    {
      "cell_type": "markdown",
      "source": [
        "# ***Collab Repository Details***\n",
        "\n",
        "\n",
        "*   **🔗 Repo :** https://github.com/5hojib/Aeon\n",
        "\n",
        "*   **📄 Channel :** https://t.me/ProjectAeon\n",
        "\n",
        "*   **🫂 Community :** https://t.me/AeonDiscussion\n",
        "\n",
        "\n",
        "# ***Deploy Aeon in Heroku using Google Colab***"
      ],
      "metadata": {
        "id": "nYsW61kdS1lB"
      }
    },
    {
      "cell_type": "code",
      "execution_count": null,
      "metadata": {
        "id": "SoWUSMrl5FXz",
        "colab": {
          "base_uri": "https://localhost:8080/",
          "height": 232
        },
        "outputId": "38ed4102-b975-4194-d248-609987aa7056"
      },
      "outputs": [
        {
          "output_type": "display_data",
          "data": {
            "text/plain": [
              "<IPython.core.display.HTML object>"
            ],
            "text/html": [
              "<marquee><b>Heroku CLI Installed !</b></marquee>"
            ]
          },
          "metadata": {}
        },
        {
          "output_type": "error",
          "ename": "ValueError",
          "evalue": "Please fill in all Mandatory Variables.",
          "traceback": [
            "\u001b[0;31m---------------------------------------------------------------------------\u001b[0m",
            "\u001b[0;31mValueError\u001b[0m                                Traceback (most recent call last)",
            "\u001b[0;32m<ipython-input-1-4311f3c7eab4>\u001b[0m in \u001b[0;36m<cell line: 17>\u001b[0;34m()\u001b[0m\n\u001b[1;32m     16\u001b[0m \u001b[0;34m\u001b[0m\u001b[0m\n\u001b[1;32m     17\u001b[0m \u001b[0;32mif\u001b[0m \u001b[0;32mnot\u001b[0m \u001b[0mall\u001b[0m\u001b[0;34m(\u001b[0m\u001b[0;34m[\u001b[0m\u001b[0mHeroku_Email\u001b[0m\u001b[0;34m,\u001b[0m \u001b[0mHeroku_API\u001b[0m\u001b[0;34m]\u001b[0m\u001b[0;34m)\u001b[0m\u001b[0;34m:\u001b[0m\u001b[0;34m\u001b[0m\u001b[0;34m\u001b[0m\u001b[0m\n\u001b[0;32m---> 18\u001b[0;31m     \u001b[0;32mraise\u001b[0m \u001b[0mValueError\u001b[0m\u001b[0;34m(\u001b[0m\u001b[0;34m\"Please fill in all Mandatory Variables.\"\u001b[0m\u001b[0;34m)\u001b[0m\u001b[0;34m\u001b[0m\u001b[0;34m\u001b[0m\u001b[0m\n\u001b[0m\u001b[1;32m     19\u001b[0m \u001b[0;34m\u001b[0m\u001b[0m\n\u001b[1;32m     20\u001b[0m \u001b[0;32mfrom\u001b[0m \u001b[0mos\u001b[0m \u001b[0;32mimport\u001b[0m \u001b[0mpath\u001b[0m \u001b[0;32mas\u001b[0m \u001b[0mospath\u001b[0m\u001b[0;34m,\u001b[0m \u001b[0mchmod\u001b[0m\u001b[0;34m\u001b[0m\u001b[0;34m\u001b[0m\u001b[0m\n",
            "\u001b[0;31mValueError\u001b[0m: Please fill in all Mandatory Variables."
          ]
        }
      ],
      "source": [
        "#@title <center><h3>***Heroku Login***</h3></center><br>\n",
        "\n",
        "#@markdown ---\n",
        "\n",
        "Heroku_Email = \"\" #@param {type:\"string\"}\n",
        "Heroku_API = \"\" #@param {type:\"string\"}\n",
        "#@markdown <h6>( <b>Note:</b> <i>Team App Deploy, Use your Personal API Token</i> )</h6>\n",
        "\n",
        "#@markdown ---\n",
        "\n",
        "!curl -s https://cli-assets.heroku.com/install.sh | sh\n",
        "\n",
        "from IPython.display import HTML, clear_output, display\n",
        "clear_output()\n",
        "display(HTML(\"<marquee><b>Heroku CLI Installed !</b></marquee>\"))\n",
        "\n",
        "if not all([Heroku_Email, Heroku_API]):\n",
        "    raise ValueError(\"Please fill in all Mandatory Variables.\")\n",
        "\n",
        "from os import path as ospath, chmod\n",
        "\n",
        "netrc_path = ospath.expanduser(\"~/.netrc\")\n",
        "\n",
        "netrc_creds = f'''machine api.heroku.com\n",
        "  login {Heroku_Email}\n",
        "  password {Heroku_API}\n",
        "machine git.heroku.com\n",
        "  login {Heroku_Email}\n",
        "  password {Heroku_API}'''\n",
        "with open(netrc_path, \"w\") as netrc_file:\n",
        "    netrc_file.write(netrc_creds)\n",
        "\n",
        "chmod(netrc_path, 0o600)\n",
        "\n",
        "!git config --global user.email {Heroku_Email}\n",
        "!git config --global user.name \"WZML-X\"\n",
        "\n",
        "display(HTML(\"<marquee><b>Heroku Email & Password Loaded!</b></marquee>\"))"
      ]
    },
    {
      "cell_type": "code",
      "execution_count": null,
      "metadata": {
        "id": "O0F5uHkJ2kzV"
      },
      "outputs": [],
      "source": [
        "#@title <center><h3>***Create Heroku App***</h3></center><br>\n",
        "\n",
        "#@markdown ---\n",
        "App_Name = \"\" #@param {type:\"string\"}\n",
        "#@markdown <h6>( <b>Note:</b> <i>App Name is Optional, skip for random name !</i> )</h6>\n",
        "Server_Region = \"\" #@param [\"eu\", \"us\"] {allow-input: true}\n",
        "HK_Team_Name = \"\" #@param {type:\"string\"}\n",
        "#@markdown <h6>( <b>Note:</b> <i>Team App Deploy, Optional option only if you want to deploy to Teams !</i> )</h6>\n",
        "\n",
        "#@markdown ---\n",
        "\n",
        "HK_Team_Name = f\"--team {HK_Team_Name}\" if HK_Team_Name else \"\"\n",
        "!heroku create --region $Server_Region --stack container $HK_Team_Name $App_Name"
      ]
    },
    {
      "cell_type": "markdown",
      "source": [
        "# New Section"
      ],
      "metadata": {
        "id": "0Mny-NIt3Pxd"
      }
    },
    {
      "cell_type": "code",
      "execution_count": null,
      "metadata": {
        "id": "NDpKCpuD2xjE"
      },
      "outputs": [],
      "source": [
        "#@title <center><h3>***WZML-X Repo Config Setup***</h3></center><br>\n",
        "\n",
        "#@markdown #### ***Fill all these Variables for the `config.env`*** **(All are Mandatory)**\n",
        "\n",
        "BOT_TOKEN = \"\"  # @param {type:\"string\"}\n",
        "TELEGRAM_API = \"\"  # @param {type:\"string\"}\n",
        "TELEGRAM_HASH = \"\"  # @param {type:\"string\"}\n",
        "OWNER_ID = \"\"  # @param {type:\"string\"}\n",
        "UPSTREAM_REPO = \"https://github.com/Paidrom1974/Aeon\"  # @param {type:\"string\"}\n",
        "UPSTREAM_BRANCH = \"main\"  # @param {type:\"string\"}\n",
        "DATABASE_URL = \"\"  # @param {type:\"string\"}\n",
        "BASE_URL = \"\"  # @param {type:\"string\"}\n",
        "\n",
        "#@markdown ---\n",
        "\n",
        "#@markdown ### ***OR***\n",
        "CONF_GIST_URL = \"\" # @param {type:\"string\"}\n",
        "#@markdown <h6><i>(If you want to Upload `config.env` via `gist.github.com`, Provide the gist URL, Always make Private gist)</i></h6>\n",
        "\n",
        "#@markdown ---\n",
        "\n",
        "#@markdown ### ***OR***\n",
        "Upload_Config = False # @param {type:\"boolean\"}\n",
        "#@markdown <h6><i>(If you want to Upload `config.env` file Externally, Tick the Above CheckBox)</i></h6>\n",
        "\n",
        "#@markdown ---\n",
        "\n",
        "if not Upload_Config and not CONF_GIST_URL and not all([BOT_TOKEN, TELEGRAM_API, TELEGRAM_HASH, OWNER_ID, UPSTREAM_REPO, DATABASE_URL, BASE_URL]):\n",
        "    raise ValueError(\"Please fill in all Mandatory Variables.\")\n",
        "\n",
        "!git clone -b deploy https://github.com/Paidrom1974/Aeon\n",
        "%cd Aeon\n",
        "\n",
        "if Upload_Config:\n",
        "    from google.colab import files\n",
        "    config_creds = list(files.upload().values())[0]\n",
        "    with open(\"config.env\", \"wb\") as config_file:\n",
        "        config_file.write(config_creds)\n",
        "    print(\"config.env File Uploaded and Saved Successfully\")\n",
        "elif CONF_GIST_URL:\n",
        "    !curl -o \"config.env\" $CONF_GIST_URL\n",
        "    print(\"config.env File Extracted and Saved Successfully\")\n",
        "elif all([BOT_TOKEN, TELEGRAM_API, TELEGRAM_HASH, OWNER_ID, UPSTREAM_REPO, DATABASE_URL, BASE_URL]):\n",
        "    config_creds = f'BOT_TOKEN = \"{BOT_TOKEN}\"\\n' \\\n",
        "                   f'TELEGRAM_API = \"{TELEGRAM_API}\"\\n' \\\n",
        "                   f'TELEGRAM_HASH = \"{TELEGRAM_HASH}\"\\n' \\\n",
        "                   f'OWNER_ID = \"{OWNER_ID}\"\\n' \\\n",
        "                   f'UPSTREAM_REPO = \"{UPSTREAM_REPO}\"\\n' \\\n",
        "                   f'UPSTREAM_BRANCH = \"{UPSTREAM_BRANCH}\"\\n' \\\n",
        "                   f'DATABASE_URL = \"{DATABASE_URL}\"\\n' \\\n",
        "                   f'BASE_URL = \"{BASE_URL}\"\\n' \\\n",
        "\n",
        "    with open(\"config.env\", \"wb\") as config_file:\n",
        "        config_file.write(config_creds.encode())\n",
        "    print(\"config.env File made and Saved Successfully\")\n"
      ]
    },
    {
      "cell_type": "code",
      "execution_count": null,
      "metadata": {
        "id": "NDbOYtC0ADR5"
      },
      "outputs": [],
      "source": [
        "# @title <center><h3>***Deploy Heroku App***</h3></center><br>\n",
        "\n",
        "#@markdown ---\n",
        "App_Name = \"\" #@param {type:\"string\"}\n",
        "#@markdown ---\n",
        "\n",
        "!git add . -f\n",
        "!git commit -m \"init\"\n",
        "!heroku git:remote -a {App_Name}\n",
        "!git push heroku deploy:main -f"
      ]
    },
    {
      "cell_type": "code",
      "execution_count": null,
      "metadata": {
        "id": "uLHCOrkZgYbG"
      },
      "outputs": [],
      "source": [
        "# @title <center><h3>***Show Heroku App Logs***</h3></center><br>\n",
        "\n",
        "#@markdown ---\n",
        "App_Name = \"\" #@param {type:\"string\"}\n",
        "#@markdown ---\n",
        "\n",
        "!heroku logs -a {App_Name}"
      ]
    },
    {
      "cell_type": "code",
      "execution_count": null,
      "metadata": {
        "cellView": "form",
        "id": "jHhWiD3QAVTt"
      },
      "outputs": [],
      "source": [
        "#@title <center><h3>***Heroku Logout***</h3></center><br>\n",
        "\n",
        "!heroku logout"
      ]
    }
  ],
  "metadata": {
    "colab": {
      "provenance": [],
      "include_colab_link": true
    },
    "kernelspec": {
      "display_name": "Python 3",
      "name": "python3"
    },
    "language_info": {
      "name": "python"
    }
  },
  "nbformat": 4,
  "nbformat_minor": 0
}